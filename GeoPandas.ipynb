{
 "cells": [
  {
   "cell_type": "code",
   "execution_count": 1,
   "id": "d9893dbf",
   "metadata": {},
   "outputs": [],
   "source": [
    "import geopandas as gpd\n",
    "from shapely.geometry import Point\n",
    "from pathlib import Path\n",
    "import pandas as pd\n",
    "import sys \n"
   ]
  },
  {
   "cell_type": "markdown",
   "id": "e2dc4f37",
   "metadata": {},
   "source": [
    "Marriage GeoJSON"
   ]
  },
  {
   "cell_type": "code",
   "execution_count": 2,
   "id": "1a9bad00",
   "metadata": {},
   "outputs": [],
   "source": [
    "#load in file and store in variable cvs1\n",
    "csv1 = Path('./MarriagePercentChange.csv')\n",
    "# Read in our csv data and convert to pandas DF\n",
    "Marriage_data = pd.read_csv(csv1)\n",
    "Marriage_df = pd.DataFrame(Marriage_data)\n",
    "# Read the file\n",
    "gdf = gpd.read_file('C:/Users/cmyla/MIA-VIRT-DATA-PT-09-2023-U-LOLC/UM Modules/project-three/us-states.json')\n",
    "gdf = gdf.rename(columns={'name':'State'})\n",
    "Poly_Marriage = pd.merge(Marriage_df, gdf, on='State', how='inner')\n",
    "Poly_Marriage = Poly_Marriage.rename(columns={'Percent Change':'PercentChange'})\n",
    "Poly_gdf = gpd.GeoDataFrame(Poly_Marriage, geometry='geometry')\n",
    "Poly_gdf.to_file('Marriage.geojson', driver= 'GeoJSON')\n"
   ]
  },
  {
   "cell_type": "markdown",
   "id": "0c93c429",
   "metadata": {},
   "source": [
    "Divorce GeoJSON"
   ]
  },
  {
   "cell_type": "code",
   "execution_count": 3,
   "id": "27851e95",
   "metadata": {},
   "outputs": [],
   "source": [
    "#load in file and store in variable cvs1\n",
    "csv2 = Path('./DivorcePercentChange.csv')\n",
    "# Read in our csv data and convert to pandas DF\n",
    "Divorce_data = pd.read_csv(csv2)\n",
    "Divorce_df = pd.DataFrame(Divorce_data)\n",
    "# Read the file\n",
    "gdf = gpd.read_file('C:/Users/cmyla/MIA-VIRT-DATA-PT-09-2023-U-LOLC/UM Modules/project-three/us-states.json')\n",
    "gdf = gdf.rename(columns={'name':'State'})\n",
    "Poly_Divorce = pd.merge(Divorce_df, gdf, on='State', how='inner')\n",
    "Poly_Divorce = Poly_Divorce.rename(columns={'Percent Change':'PercentChange'})\n",
    "PolyD_gdf = gpd.GeoDataFrame(Poly_Divorce, geometry='geometry')\n",
    "PolyD_gdf.to_file('Divorce.geojson', driver= 'GeoJSON')"
   ]
  },
  {
   "cell_type": "markdown",
   "id": "013ce012",
   "metadata": {},
   "source": [
    "Parties GeoJSON"
   ]
  },
  {
   "cell_type": "code",
   "execution_count": 4,
   "id": "c1e477df",
   "metadata": {},
   "outputs": [],
   "source": [
    "#load in file and store in variable cvs1\n",
    "csv3 = Path('./PartiesPercentChange.csv')\n",
    "# Read in our csv data and convert to pandas DF\n",
    "Party_data = pd.read_csv(csv3)\n",
    "Party_df = pd.DataFrame(Party_data)\n",
    "# Read the file\n",
    "gdf = gpd.read_file('C:/Users/cmyla/MIA-VIRT-DATA-PT-09-2023-U-LOLC/UM Modules/project-three/us-states.json')\n",
    "gdf = gdf.rename(columns={'name':'State'})\n",
    "Poly_Parties = pd.merge(Party_df, gdf, on='State', how='inner')\n",
    "Poly_Parties = Poly_Parties.rename(columns={'Percent Change':'PercentChange'})\n",
    "PolyP_gdf = gpd.GeoDataFrame(Poly_Parties, geometry='geometry')\n",
    "PolyP_gdf.to_file('Parties.geojson', driver= 'GeoJSON')"
   ]
  }
 ],
 "metadata": {
  "kernelspec": {
   "display_name": "Python 3 (ipykernel)",
   "language": "python",
   "name": "python3"
  },
  "language_info": {
   "codemirror_mode": {
    "name": "ipython",
    "version": 3
   },
   "file_extension": ".py",
   "mimetype": "text/x-python",
   "name": "python",
   "nbconvert_exporter": "python",
   "pygments_lexer": "ipython3",
   "version": "3.11.4"
  }
 },
 "nbformat": 4,
 "nbformat_minor": 5
}
